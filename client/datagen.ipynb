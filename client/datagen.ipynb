{
 "cells": [
  {
   "cell_type": "code",
   "execution_count": null,
   "metadata": {},
   "outputs": [],
   "source": [
    "from collections import Counter \n",
    "import numpy as np\n",
    "import random\n",
    "import json"
   ]
  },
  {
   "cell_type": "code",
   "execution_count": null,
   "metadata": {},
   "outputs": [],
   "source": [
    "alphabet = set(\"abcdefghijklmnopqrstuvwxyzåäö\")\n",
    "alphabet_list = list(\"abcdefghijklmnopqrstuvwxyzåäö\")\n",
    "\n",
    "words = open(\"/home/valle/Data/svenska120k.txt\").read().split(\"\\n\")\n",
    "words = {w for w in words if \n",
    "         w.islower() and w.isalpha() and len(w) >= 4\n",
    "         and set(w) - alphabet == set()\n",
    "         and len(set(w)) <= 7}\n",
    "\n",
    "with open(\"../wordlist.txt\", \"w\") as f:\n",
    "    f.write(\"\\n\".join(words))"
   ]
  },
  {
   "cell_type": "code",
   "execution_count": null,
   "metadata": {},
   "outputs": [],
   "source": [
    "def get_valid_words_from_combo(combo: str, center: str, word_list: list[str]):\n",
    "    words = [w for w in word_list \n",
    "             if center in w \n",
    "             and all(c in combo for c in w)]\n",
    "    return words\n",
    "\n",
    "def get_pangrams(combo: str, word_list: list[str]):\n",
    "    return [w for w in word_list if len(set(w)) == 7 \n",
    "            and all(c in combo for c in w)]"
   ]
  },
  {
   "cell_type": "code",
   "execution_count": null,
   "metadata": {},
   "outputs": [],
   "source": [
    "from itertools import combinations, chain\n",
    "from collections import defaultdict\n",
    "\n",
    "def powerset(iterable):\n",
    "    \"powerset([1,2,3]) --> (1,) (2,) (3,) (1,2) (1,3) (2,3) (1,2,3)\"\n",
    "    s = list(iterable)\n",
    "    return chain.from_iterable(combinations(s, r) for r in range(1, len(s)+1))\n",
    "\n",
    "# \"bacdefg\" -> d[\"abcdefg\"] += 1\n",
    "# d1[\"abcdefg\"] = d[\"abcdefg\"] += d[\"bcdefg\"] += d[\"acdefg\"] +... + d[\"cde\"] + ... d[\"g\"]\n",
    "\n",
    "# mapping from set of letters to number of words that can be made from exactly those letters\n",
    "d = defaultdict(int)\n",
    "for word in words:\n",
    "    d[frozenset(word)] += 1\n",
    "\n",
    "# mapping from (combo, c) where combo is a set of 7 letters and c is a center letter in combo\n",
    "# to number of words that can be made from any subset of combo that contains c\n",
    "d1 = defaultdict(int)\n",
    "for combo in list(d.keys()):\n",
    "    if len(combo) == 7:\n",
    "        for c in combo:\n",
    "            for subset in powerset(combo):\n",
    "                if c in subset:\n",
    "                    d1[(combo, c)] += d[frozenset(subset)]\n",
    "\n",
    "# change frozensets to strings for json serialization\n",
    "combo_center_counts = {(\"\".join(sorted(s)), c): v for (s,c), v in d1.items()}"
   ]
  },
  {
   "cell_type": "code",
   "execution_count": 52,
   "metadata": {},
   "outputs": [],
   "source": [
    "d = {\"\".join(sorted(s)): v for s, v in d.items() if len(s) == 7}\n",
    "d = dict(sorted(d.items(), key=lambda x: x[1], reverse=True))\n",
    "pangram_counts = d"
   ]
  },
  {
   "cell_type": "code",
   "execution_count": null,
   "metadata": {},
   "outputs": [],
   "source": [
    "# test \n",
    "for (s, c), v, in combo_center_counts.items():\n",
    "    assert v == len(get_valid_words_from_combo(s, c, words))\n",
    "    assert len(get_pangrams(s, words)) != 0"
   ]
  },
  {
   "cell_type": "code",
   "execution_count": null,
   "metadata": {},
   "outputs": [],
   "source": [
    "len({k: v for k,v in combo_center_counts.items() if v > 40})\n",
    "sorted(combo_center_counts.items(), key=lambda x: x[1], reverse=True)\n",
    "get_valid_words_from_combo(\"aeklrst\", \"a\", words)\n",
    "for c in alphabet_list:\n",
    "    print(c, len({k: v for k,v in combo_center_counts.items() if v > 30 and k[1] == c}))"
   ]
  },
  {
   "cell_type": "code",
   "execution_count": 81,
   "metadata": {},
   "outputs": [
    {
     "data": {
      "image/png": "[encoded data removed]",
      "text/plain": [
       "<Figure size 640x480 with 1 Axes>"
      ]
     },
     "metadata": {},
     "output_type": "display_data"
    },
    {
     "data": {
      "text/plain": [
       "1.0"
      ]
     },
     "execution_count": 81,
     "metadata": {},
     "output_type": "execute_result"
    }
   ],
   "source": [
    "import numpy as np \n",
    "import matplotlib.pyplot as plt\n",
    "from collections import Counter\n",
    "\n",
    "plt.hist(list(pangram_counts.values()), bins=10); plt.show()\n",
    "np.median(list(pangram_counts.values()))\n",
    "# np.max(list(combo_center_counts.values()))\n",
    "# c = Counter(\"\".join(x[1] for x in combo_center_counts.keys()))\n",
    "# plt.bar(sorted(c.keys()), [c[x] for x in sorted(c.keys())]); plt.show()"
   ]
  },
  {
   "cell_type": "code",
   "execution_count": null,
   "metadata": {},
   "outputs": [],
   "source": [
    "def to_json(d): return {s+c: v for (s,c), v in d.items()}\n",
    "def from_json(d): return {(s[:-1], s[-1]): v for s, v in d.items()}\n",
    "\n",
    "# good_combos = {k: v for k,v in combo_center_counts.items() if v > 40}\n",
    "# assert from_json(to_json(good_combos)) == good_combos\n",
    "# json.dump(to_json(dict(sorted(good_combos.items(), key=lambda x: x[1], reverse=True))), \n",
    "#           open(\"../combo_center_counts.json\", \"w\"), ensure_ascii=False)"
   ]
  },
  {
   "cell_type": "code",
   "execution_count": null,
   "metadata": {},
   "outputs": [],
   "source": [
    "combo_center_counts = from_json(json.load(open(\"../combo_center_counts.json\", \"r\")))\n",
    "\n",
    "def create_game():\n",
    "    combo, center = random.choice(list(combo_center_counts.keys()))\n",
    "    print(combo, center)\n",
    "    valid_words = get_valid_words_from_combo(combo, center, words)\n",
    "    pangrams = [w for w in valid_words if len(set(w)) == 7]\n",
    "    game = {\n",
    "        \"letters\": list(combo),\n",
    "        \"center\": center,\n",
    "        \"validWords\": valid_words,\n",
    "        \"pangrams\": pangrams\n",
    "    }\n",
    "    return game\n",
    "\n",
    "game = create_game()\n",
    "print(len(game[\"validWords\"]))\n",
    "print(game[\"pangrams\"])\n",
    "game\n"
   ]
  },
  {
   "cell_type": "code",
   "execution_count": 24,
   "metadata": {},
   "outputs": [
    {
     "data": {
      "text/plain": [
       "datetime.datetime(2023, 9, 9, 23, 13, 41, 846925)"
      ]
     },
     "execution_count": 24,
     "metadata": {},
     "output_type": "execute_result"
    }
   ],
   "source": [
    "from datetime import datetime, timedelta\n",
    "import os\n",
    "\n",
    "datetime.now() + timedelta(days=1)"
   ]
  }
 ],
 "metadata": {
  "kernelspec": {
   "display_name": "Python 3",
   "language": "python",
   "name": "python3"
  },
  "language_info": {
   "codemirror_mode": {
    "name": "ipython",
    "version": 3
   },
   "file_extension": ".py",
   "mimetype": "text/x-python",
   "name": "python",
   "nbconvert_exporter": "python",
   "pygments_lexer": "ipython3",
   "version": "3.11.4"
  },
  "orig_nbformat": 4
 },
 "nbformat": 4,
 "nbformat_minor": 2
}
